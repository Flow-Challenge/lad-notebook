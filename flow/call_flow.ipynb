{
 "cells": [
  {
   "cell_type": "markdown",
   "metadata": {},
   "source": [
    "# How to execute\n",
    "\n",
    "To execute the application, you need to have a valid flow token. You can obtain this token using one of the following methods:\n",
    "\n",
    "1. Generate a Flow Token Programmatically:\n",
    "    Run the `flow_token.py script`. If the script executes successfully, it will create a `.env` file containing your **FLOW_TENANT** and **FLOW_TOKEN**.\n",
    "\n",
    "\n",
    "\n",
    "2. Retrieve Your Flow Token from Browser Cookies:\n",
    "    Extract your flow token directly from your browser cookies. **Ensure you are logged in with your CI&T account**. For guidance, refer to this [YouTube tutorial](https://youtube.com/clip/Ugkxsv6UO3IpQ2ZLfbb61z4QN90XohMfzh22?si=hYZao7TG1E1SwvSK)."
   ]
  },
  {
   "cell_type": "code",
   "execution_count": null,
   "metadata": {},
   "outputs": [],
   "source": [
    "\n",
    "import requests\n",
    "import json\n",
    "import threading\n",
    "import os\n",
    "\n",
    "from datetime import datetime\n",
    "from dotenv import load_dotenv, find_dotenv\n",
    "_ = load_dotenv(find_dotenv())"
   ]
  },
  {
   "cell_type": "code",
   "execution_count": null,
   "metadata": {},
   "outputs": [],
   "source": [
    "flowToken = \"\""
   ]
  },
  {
   "cell_type": "code",
   "execution_count": null,
   "metadata": {},
   "outputs": [],
   "source": [
    "#  model_engine = 'gemini-pro'\n",
    "def chatCompletion_v1(prompt, model_engine='gpt-4o'):\n",
    "\n",
    "    flow_llm_url = \"https://flow.ciandt.com/ai-orchestration-api/v1/openai/chat/completions\"\n",
    "    flow_tenant = os.getenv(\"FLOW_TENANT\") or \"lithiadw\"\n",
    "    flow_token = os.getenv(\"FLOW_TOKEN\") or flowToken\n",
    "\n",
    "    payload = json.dumps({\n",
    "        \"stream\": False,\n",
    "        \"max_tokens\": 4096,\n",
    "        \"temperature\": 0.7,\n",
    "        \"allowedModels\": [\n",
    "            \"gpt-4o-mini\"\n",
    "        ],\n",
    "        \"messages\": [\n",
    "            {\n",
    "                \"role\": \"user\",\n",
    "                \"content\": [\n",
    "                    {\n",
    "                        \"type\": \"text\",\n",
    "                        \"text\": prompt\n",
    "                    }\n",
    "                ]\n",
    "            }\n",
    "        ],\n",
    "        \n",
    "    })\n",
    "\n",
    "    headers = {\n",
    "        'Content-Type': 'application/json',\n",
    "        'Accept': '*/*',\n",
    "        'FlowTenant': flow_tenant,\n",
    "        'FlowAgent': \"Kanjih-Tools\",\n",
    "        'Authorization': f\"Bearer {flow_token}\",\n",
    "    }\n",
    "\n",
    "    r =  requests.request(\"POST\", flow_llm_url, headers=headers, data=payload)\n",
    "    \n",
    "    if(r.status_code != 200):\n",
    "        print(f\"{r.text} please recreate your flow token\")\n",
    "        return None\n",
    "    \n",
    "    return r.json()['choices'][0]['message']['content']\n",
    "\n",
    "\n",
    "\n",
    " # Prompt message\n",
    "message = \"Que dia nasceu Cristovão colombo?\"    \n",
    "response = chatCompletion_v1(message)\n",
    "print(response)"
   ]
  }
 ],
 "metadata": {
  "kernelspec": {
   "display_name": "lad-tools",
   "language": "python",
   "name": "python3"
  },
  "language_info": {
   "codemirror_mode": {
    "name": "ipython",
    "version": 3
   },
   "file_extension": ".py",
   "mimetype": "text/x-python",
   "name": "python",
   "nbconvert_exporter": "python",
   "pygments_lexer": "ipython3",
   "version": "3.11.10"
  }
 },
 "nbformat": 4,
 "nbformat_minor": 2
}
